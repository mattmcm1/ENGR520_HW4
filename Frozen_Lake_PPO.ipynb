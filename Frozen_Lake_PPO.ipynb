{
 "cells": [
  {
   "cell_type": "markdown",
   "id": "8e09fbb3",
   "metadata": {},
   "source": [
    "# SETUP"
   ]
  },
  {
   "cell_type": "code",
   "execution_count": 1,
   "id": "81a3fe39",
   "metadata": {},
   "outputs": [],
   "source": [
    "import gymnasium as gym\n",
    "import matplotlib.pyplot as plt\n",
    "import numpy as np\n",
    "import os\n",
    "import torch\n",
    "\n",
    "from stable_baselines3 import PPO\n",
    "from stable_baselines3.common.env_util import make_vec_env\n",
    "\n",
    "MODEL_PATH = \"ppo_frozenlake.zip\""
   ]
  },
  {
   "cell_type": "code",
   "execution_count": 2,
   "id": "c155075d",
   "metadata": {},
   "outputs": [],
   "source": [
    "'''\n",
    "Train an agent on the FrozenLake 4x4 environment using PPO (Proximal Policy Optimization).\n",
    "Saves the trained model to disk.\n",
    "'''\n",
    "def train(episodes=15000, slippery=False):\n",
    "    # setup environment\n",
    "    env = make_vec_env(\n",
    "        lambda: gym.make(\"FrozenLake-v1\", map_name=\"4x4\", is_slippery=slippery),\n",
    "        n_envs=1\n",
    "    )\n",
    "\n",
    "    # setup, train, save model\n",
    "    model = PPO(\"MlpPolicy\", env, verbose=1, device='cpu') # apparently using the cpu is better here, so force it\n",
    "    model.learn(total_timesteps=episodes)\n",
    "    model.save(\"ppo_frozenlake_model\")\n",
    "\n",
    "    env.close()"
   ]
  },
  {
   "cell_type": "code",
   "execution_count": 3,
   "id": "fcb94c88",
   "metadata": {},
   "outputs": [],
   "source": [
    "'''\n",
    "Test a trained PPO agent on the FrozenLake 4x4 environment.\n",
    "Displays the environment if render=True.\n",
    "'''\n",
    "def test(episodes=1, render=False, slippery=False):\n",
    "    # load model\n",
    "    model = PPO.load(\"ppo_frozenlake_model\")\n",
    "\n",
    "    # setup environment\n",
    "    env = gym.make(\n",
    "        \"FrozenLake-v1\",\n",
    "        map_name=\"4x4\",\n",
    "        is_slippery=slippery,\n",
    "        render_mode='human' if render else None\n",
    "    )\n",
    "\n",
    "    \n",
    "    rewards_per_episode = np.zeros(episodes)\n",
    "\n",
    "    for i in range(episodes):\n",
    "        obs, _ = env.reset()\n",
    "        total_reward = 0\n",
    "        done = False\n",
    "\n",
    "        while not done:\n",
    "            action, _ = model.predict(obs, deterministic=True)\n",
    "            obs, reward, terminated, truncated, _ = env.step(int(action))\n",
    "            total_reward += reward\n",
    "            done = terminated or truncated\n",
    "\n",
    "        rewards_per_episode[i] = total_reward\n",
    "\n",
    "    env.close()"
   ]
  },
  {
   "cell_type": "markdown",
   "id": "56dbd011",
   "metadata": {},
   "source": [
    "# Non-slippery"
   ]
  },
  {
   "cell_type": "code",
   "execution_count": null,
   "id": "13d65bb6",
   "metadata": {
    "scrolled": true
   },
   "outputs": [],
   "source": [
    "# train the model and output stats\n",
    "train(episodes=3000, slippery=False) "
   ]
  },
  {
   "cell_type": "code",
   "execution_count": null,
   "id": "0ff32c99",
   "metadata": {},
   "outputs": [],
   "source": [
    "# see how the guy does!\n",
    "test(episodes=1, render=True, slippery=False)  "
   ]
  },
  {
   "cell_type": "markdown",
   "id": "e5ece051",
   "metadata": {},
   "source": [
    "# Slippery"
   ]
  },
  {
   "cell_type": "code",
   "execution_count": null,
   "id": "f8f07e5a",
   "metadata": {
    "scrolled": true
   },
   "outputs": [],
   "source": [
    "train(episodes=15000, slippery=True) "
   ]
  },
  {
   "cell_type": "code",
   "execution_count": null,
   "id": "e0433013",
   "metadata": {},
   "outputs": [],
   "source": [
    "test(episodes=1, render=True, slippery=True)  "
   ]
  }
 ],
 "metadata": {
  "kernelspec": {
   "display_name": "Python 3 (ipykernel)",
   "language": "python",
   "name": "python3"
  },
  "language_info": {
   "codemirror_mode": {
    "name": "ipython",
    "version": 3
   },
   "file_extension": ".py",
   "mimetype": "text/x-python",
   "name": "python",
   "nbconvert_exporter": "python",
   "pygments_lexer": "ipython3",
   "version": "3.11.5"
  }
 },
 "nbformat": 4,
 "nbformat_minor": 5
}
